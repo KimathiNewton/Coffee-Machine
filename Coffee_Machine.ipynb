{
 "cells": [
  {
   "cell_type": "markdown",
   "id": "ab850327-b975-4ad2-9bae-986937919301",
   "metadata": {},
   "source": [
    "**You have been hired! Congratulations. Your first task we have been experiencing issues with our coffee machine. Breakdown and theft. We will need you to build a virtual coffee machine that takes coins process it check the resource available for making  the coffee and if all checks are successful, it gives you your coffee . The application should prompt the user to make their coffee choice, prompt the user for the coins to be entered and process it. Check to see if the user has sufficient funds, after that check if there are sufficient resources to make the coffee. The program should keep running until the user shut it down.**\n"
   ]
  },
  {
   "cell_type": "markdown",
   "id": "905a8718-7c4e-454b-9c57-ab81c1b75758",
   "metadata": {},
   "source": [
    "* Todo 1: Prompt the user by asking \"what would you like ?\" (espresso/latte/cappuccino):\n",
    "    \n",
    "    * a. check the user's input to decide what to do next.\n",
    "    \n",
    "    * b. the prompt should show every time action has completed, e.g once the drink is dispensed. The prompt should show again to serve the next customer."
   ]
  },
  {
   "cell_type": "markdown",
   "id": "e1e41603-ab21-46a5-836b-2732eaf71018",
   "metadata": {},
   "source": [
    "* Todo 2: Turn off the coffee machine by entering \"off\" to prompt.\n",
    "\n",
    "    * a. For maintaners of the coffee machine, they can use \"off\" as the secret word to turn off the machine. Your code should end execution when this happens."
   ]
  },
  {
   "cell_type": "markdown",
   "id": "772ae4ed-0483-4e89-86ab-79e5fc62dda5",
   "metadata": {},
   "source": [
    "* Todo 3: Print report\n",
    "\n",
    "    * a. When the user enters report to the prompt, a report should be generated that shows the current resources values. e.g.\n",
    "    \n",
    "         * Water : 100 ml\n",
    "         * Milk: 50 ml\n",
    "         * Coffee: 76g\n",
    "         * Money: $ 2.5"
   ]
  },
  {
   "cell_type": "markdown",
   "id": "0d04fd92-1c66-44d1-8280-82fc68df608e",
   "metadata": {},
   "source": [
    "* Todo 4: Check resources sufficient\n",
    "\n",
    "    * a. When the user chooses a drink, the program should check if there are enough resources to make the drink\n",
    "    \n",
    "    * b. E.g. If Latte requires 200 ml water but there is only 100 ml left in the machine. it should not continue to make the drink but print:\"Sorry there is not enough water.\"\n",
    "    \n",
    "    * c. The same should happen if another resources is depleted, e.g. milk or coffe"
   ]
  },
  {
   "cell_type": "markdown",
   "id": "03594b9a-6620-462a-8249-e63f06698dfb",
   "metadata": {},
   "source": [
    "* Todo 5: Process coins\n",
    "\n",
    "    * a. If there are sufficient resources to make the drink selected, then the program should prompt the uses to insert coins.\n",
    "    * b. Remember the quarters = $0.25, dimes = $0.10, nickles = $0.05, pennies = 0.01 \n",
    "    \n",
    "    * c. Calculate the monetary values of the coins inserted. E.g 1 quarter, 2 dimes, 1 nickle, 2 pennies => 1 * 0.25 + 2 * 0.10 + 1 * 0.50 + 2 * 0.01 = $0.52"
   ]
  },
  {
   "cell_type": "markdown",
   "id": "3827b811-2eb5-4976-be73-cb9168e5d884",
   "metadata": {},
   "source": [
    "* Todo 6: Check if transaction is successful\n",
    "\n",
    "    * a. Check that the user has inserted enough money to purchase the drink they selected. E.g Latte cost $2.50, but they only inserted $0.52 then after counting the coins the program shoud say \"Sorry that's not enough money. Money refunded\"\n",
    "    \n",
    "    * b. But if the user has inserted enough money, then the cost of the drink gets added to the machine as the profit and will be reflected the next time \"report\" is triggered. E.g\n",
    "        * Water : 100 ml\n",
    "        * Milk: 50 ml\n",
    "        * Coffee: 76g\n",
    "        * Money: $ 2.5\n",
    "        \n",
    "    * c. if the user has inserted too much money, the machine should offer change. E.g \"Here is $2.45 in change.\" The change should be rounded to 2 decimal places."
   ]
  },
  {
   "cell_type": "markdown",
   "id": "25d4c938-b46b-44c4-9bd0-f2ea950c8dfa",
   "metadata": {},
   "source": [
    "* Todo 7: Make coffee.\n",
    "    * a. If the transaction is sucessful and there are enough resources to make the drink the user selected, then the ingredients to make the drink should be deducted from the coffee machine resources.\n",
    "        * **E.g. report before purchasing latte:**\n",
    "        * Water : 300 ml\n",
    "        * Milk: 200 ml\n",
    "        * Coffee: 100g\n",
    "        * Money: $ 0\n",
    "        \n",
    "        * **Report after purchasing latte:**\n",
    "        * Water : 100 ml\n",
    "        * Milk: 50 ml\n",
    "        * Coffee: 76g\n",
    "        * Money: $ 2.5\n",
    "\n",
    "    * b. Once all the resources have been deducted, tell the user \"Here is your latte. Enjoy!\". If latte was their choice of drink."
   ]
  },
  {
   "cell_type": "code",
   "execution_count": 11,
   "id": "930ed9b0-12c7-40cd-8e80-60977e425e3c",
   "metadata": {},
   "outputs": [],
   "source": [
    "\n",
    "MENU = {\n",
    "    \"espresso\": {\n",
    "        \"ingredients\": {\n",
    "            \"water\": 50,\n",
    "            \"coffee\": 18,\n",
    "        },\n",
    "        \"cost\": 1.5,\n",
    "    },\n",
    "    \"latte\": {\n",
    "        \"ingredients\": {\n",
    "            \"water\": 200,\n",
    "            \"milk\": 150,\n",
    "            \"coffee\": 24,\n",
    "        },\n",
    "        \"cost\": 2.5,\n",
    "    },\n",
    "    \"cappuccino\": {\n",
    "        \"ingredients\": {\n",
    "            \"water\": 250,\n",
    "            \"milk\": 100,\n",
    "            \"coffee\": 24,\n",
    "        },\n",
    "        \"cost\": 3.0,\n",
    "    }\n",
    "}\n",
    "\n",
    "resources = {\n",
    "    \"water\": 300,\n",
    "    \"milk\": 200,\n",
    "    \"coffee\": 100,\n",
    "}\n",
    "\n",
    "def is_resource_sufficient(order_ingredients):\n",
    "    \"\"\"Returns True when order can be made, False if ingredients are insufficient\"\"\"\n",
    "    for item in order_ingredients:\n",
    "        if order_ingredients[item] >= resources[item]:\n",
    "            print(f\"Sorry there is not enough {item}\")\n",
    "            return False\n",
    "    return True\n",
    "\n",
    "\n",
    "def process_coins():\n",
    "    \"\"\"Returns the total calculated from coins inserted.\"\"\"\n",
    "    print(\"Please insert a coins.\")\n",
    "    total = int(input(\"How many quarters?: \")) * 0.25\n",
    "    total += int(input(\"How many quarters?: \")) * 0.1\n",
    "    total += int(input(\"How many quarters?: \")) * 0.05\n",
    "    total += int(input(\"How many quarters?: \")) * 0.01\n",
    "    return total\n",
    "\n",
    "\n",
    "def is_transaction_successful(money_received, drink_cost):\n",
    "    \"\"\"Returns True when the payment is accepted, or False if money is insufficient.\"\"\"\n",
    "    if money_received >= drink_cost:\n",
    "        change = round(money_received - drink_cost, 2)\n",
    "        print(f\"Here is ${change} in change\")\n",
    "        global profit\n",
    "        profit += drink_cost\n",
    "        return True\n",
    "    else:\n",
    "        print(\"Sorry that's not enough money. Money refunded.\")\n",
    "        return False\n",
    "\n",
    "def make_coffee(drink_name, order_ingredients):\n",
    "    \"\"\"Deduct the required ingredient from the resources.\"\"\"\n",
    "    for item in order_ingredients:\n",
    "        resources[item] -= order_ingredients[item]\n",
    "    print(f\"Here is your {drink_name}🍵\")\n",
    "\n",
    "\n",
    "\n",
    "profit = 0\n",
    "\n",
    "is_on = True\n",
    "while is_on:\n",
    "    choice = input(\"what would you like ? (espresso/latte/cappuccino):\")\n",
    "    if choice == \"off\":\n",
    "        is_on = False\n",
    "\n",
    "    elif choice == \"report\":\n",
    "        print(f\"Water: {resources['water']}ml\")\n",
    "        print(f\"Milk: {resources['milk']}ml\")\n",
    "        print(f\"Coffee: {resources['coffee']}g\")\n",
    "        print(f\"Money: {profit}\")\n",
    "    else:\n",
    "        drink = MENU[choice]\n",
    "        if is_resource_sufficient(drink[\"ingredients\"]):\n",
    "            payment = process_coins()\n",
    "            if is_transaction_successful(payment, drink[\"cost\"]):\n",
    "                make_coffee(choice, drink[\"ingredients\"])"
   ]
  },
  {
   "cell_type": "code",
   "execution_count": null,
   "id": "f79920de-c8a5-409e-91ed-45c8c681d7aa",
   "metadata": {},
   "outputs": [],
   "source": []
  }
 ],
 "metadata": {
  "kernelspec": {
   "display_name": "Python 3 (ipykernel)",
   "language": "python",
   "name": "python3"
  },
  "language_info": {
   "codemirror_mode": {
    "name": "ipython",
    "version": 3
   },
   "file_extension": ".py",
   "mimetype": "text/x-python",
   "name": "python",
   "nbconvert_exporter": "python",
   "pygments_lexer": "ipython3",
   "version": "3.10.9"
  }
 },
 "nbformat": 4,
 "nbformat_minor": 5
}
